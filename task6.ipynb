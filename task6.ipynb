{
  "nbformat": 4,
  "nbformat_minor": 0,
  "metadata": {
    "colab": {
      "provenance": [],
      "authorship_tag": "ABX9TyM37WfS1C7F2ac6VLwd7MbN",
      "include_colab_link": true
    },
    "kernelspec": {
      "name": "python3",
      "display_name": "Python 3"
    },
    "language_info": {
      "name": "python"
    }
  },
  "cells": [
    {
      "cell_type": "markdown",
      "metadata": {
        "id": "view-in-github",
        "colab_type": "text"
      },
      "source": [
        "<a href=\"https://colab.research.google.com/github/HritikaGupta22/Classtest1/blob/main/task6.ipynb\" target=\"_parent\"><img src=\"https://colab.research.google.com/assets/colab-badge.svg\" alt=\"Open In Colab\"/></a>"
      ]
    },
    {
      "cell_type": "code",
      "execution_count": 1,
      "metadata": {
        "id": "6ftEc7BVcxdE"
      },
      "outputs": [],
      "source": [
        "#task 6"
      ]
    },
    {
      "cell_type": "code",
      "source": [
        "import random\n",
        "\n",
        "# Generate a random 4-digit number between 1000 and 9999\n",
        "random_number = random.randint(1000, 9999)\n",
        "\n",
        "print(f\"Random 4-digit number: {random_number}\")\n",
        "\n",
        "# Extract and print each digit with its place value\n",
        "thousands_digit = random_number // 1000\n",
        "hundreds_digit = (random_number // 100) % 10\n",
        "tens_digit = (random_number // 10) % 10\n",
        "ones_digit = random_number % 10\n",
        "\n",
        "print(f\"Thousands digit: {thousands_digit}\")\n",
        "print(f\"Hundreds digit: {hundreds_digit}\")\n",
        "print(f\"Tens digit: {tens_digit}\")\n",
        "print(f\"Ones digit: {ones_digit}\")"
      ],
      "metadata": {
        "colab": {
          "base_uri": "https://localhost:8080/"
        },
        "id": "NS2uns7rc0MA",
        "outputId": "80fe7f12-9f8d-4b8a-e0f9-8d2edd6f531b"
      },
      "execution_count": 2,
      "outputs": [
        {
          "output_type": "stream",
          "name": "stdout",
          "text": [
            "Random 4-digit number: 3845\n",
            "Thousands digit: 3\n",
            "Hundreds digit: 8\n",
            "Tens digit: 4\n",
            "Ones digit: 5\n"
          ]
        }
      ]
    },
    {
      "cell_type": "code",
      "source": [],
      "metadata": {
        "id": "5ypzVO0Hc02P"
      },
      "execution_count": null,
      "outputs": []
    }
  ]
}