{
 "cells": [
  {
   "cell_type": "code",
   "execution_count": null,
   "metadata": {},
   "outputs": [],
   "source": [
    "#Task 1\n",
    "#Write a python code which will count the number of unique letters and their frequency. \n",
    "#Test the code with the word ‘Anaconda’. (Note: Remove Case Sensitivity)\n",
    "#Input: Anaconda\n",
    "#Output 1: Number of Unique Letters = 5. \n",
    "#Output 2: {a: 3, c: 1, d: 1, n: 2, o: 1}\n",
    "\n",
    "word = \"Anaconda\"\n",
    "\n",
    "# Convert the word to lowercase to remove case sensitivity\n",
    "word = word.lower()\n",
    "\n",
    "# Create an empty dictionary to store letter frequencies\n",
    "letter_count = {}\n",
    "\n",
    "# Iterate through the characters in the word\n",
    "for char in word:\n",
    "    if char.isalpha():\n",
    "        if char in letter_count:\n",
    "            letter_count[char] += 1\n",
    "        else:\n",
    "            letter_count[char] = 1\n",
    "\n",
    "# Calculate the number of unique letters\n",
    "num_unique_letters = len(letter_count)\n",
    "\n",
    "# Print the results\n",
    "print(\"Output 1: Number of Unique Letters =\", num_unique_letters)\n",
    "print(\"Output 2:\", letter_count)\n"
   ]
  },
  {
   "cell_type": "code",
   "execution_count": 10,
   "metadata": {},
   "outputs": [
    {
     "name": "stdout",
     "output_type": "stream",
     "text": [
      "Class_Test = 6 (marks)\n",
      "Mid_Term = 12 (marks)\n",
      "Project = 17 (marks)\n",
      "End_Term = 23 (marks)\n"
     ]
    }
   ],
   "source": [
    "# Task 2\n",
    "#A student’s evaluation is done based on 4 components: Class_Test (10%), Mid_Term (20%), Project (30%) & End_Term (40%). \n",
    "#Write a python code to generate a random score between 10 & 90 (use python library: random) and get the evaluation bifurcation (Round off to Nearest Integer).\n",
    "#Example\n",
    "#Input = 80 (marks)\n",
    "#Class_Test = 8 (marks)\n",
    "#Mid_Term = 16 (marks)\n",
    "#Project = 24 (marks)\n",
    "#End_Term = 32 (marks)\n",
    "import random\n",
    "\n",
    "# Generate a random score between 10 and 90\n",
    "total_score = random.randint(10, 90)\n",
    "\n",
    "# Calculate scores for each component based on weights\n",
    "class_test_weight = 0.10\n",
    "mid_term_weight = 0.20\n",
    "project_weight = 0.30\n",
    "end_term_weight = 0.40\n",
    "\n",
    "class_test_score = round(total_score * class_test_weight)\n",
    "mid_term_score = round(total_score * mid_term_weight)\n",
    "project_score = round(total_score * project_weight)\n",
    "end_term_score = round(total_score * end_term_weight)\n",
    "\n",
    "# Print the results\n",
    "print(\"Class_Test =\", class_test_score, \"(marks)\")\n",
    "print(\"Mid_Term =\", mid_term_score, \"(marks)\")\n",
    "print(\"Project =\", project_score, \"(marks)\")\n",
    "print(\"End_Term =\", end_term_score, \"(marks)\")"
   ]
  },
  {
   "cell_type": "code",
   "execution_count": 11,
   "metadata": {},
   "outputs": [
    {
     "name": "stdout",
     "output_type": "stream",
     "text": [
      "Common letters between  Python and Anaconda\n",
      "o\n",
      "n\n"
     ]
    }
   ],
   "source": [
    "#3  Write a python code which will count the number of unique letters and their frequency. \n",
    "#Test the code with the word ‘Anaconda’. (Note: Remove Case Sensitivity)\n",
    "#Input: Anaconda\n",
    "#Output 1: Number of Unique Letters = 5. \n",
    "#Output 2: {a: 3, c: 1, d: 1, n: 2, o: 1}\n",
    "\n",
    "def common_letters(w1, w2):\n",
    "    w1 = w1.lower()\n",
    "    w2= w2.lower()\n",
    "\n",
    "    common_letters = set(w1) & set(w2) #checking common letter\n",
    "    return common_letters\n",
    "\n",
    "w1 = 'Python'  # assignment of string \"python\" in variable w1\n",
    "w2 = 'Anaconda' # assignment of string \"Anaconda\" in variable w2\n",
    "\n",
    "common_letters = common_letters(w1, w2) #calling of a function common_letters have two parameter w1,w2 and return the content into common_letters\n",
    "\n",
    "print(\"Common letters between \" ,w1 ,\"and\", w2)\n",
    "for letter in common_letters:  # read letter in common_letter\n",
    "    print(letter)"
   ]
  },
  {
   "cell_type": "code",
   "execution_count": 3,
   "metadata": {},
   "outputs": [
    {
     "name": "stdout",
     "output_type": "stream",
     "text": [
      "The Grade is :  50\n",
      "The score \n",
      "Grade C\n"
     ]
    }
   ],
   "source": [
    "#task4\n",
    "# Write a python code to generate a random score between 0 & 100 (use python library: random). Print the following as output:\n",
    "#1. The score\n",
    "#2. ‘Grade F’ : If the score is less than 40\n",
    "#3. ‘Grade C’ : If the score is between 40 & 59\n",
    "#4. ‘Grade B’ : If the score is between 60 & 84\n",
    "#5. ‘Grade A’ : If the score is between 85 & 100\n",
    "\n",
    "# code\n",
    "#importing a module name random as alias name as rn\n",
    "import random as rn\n",
    "#taking a random value from randint which is a function in a module random\n",
    "grade= rn.randint(0,100)\n",
    "#printing the grade value\n",
    "print(\"The Grade is : \",grade)\n",
    "print(\"The score \")\n",
    "#‘Grade F’ : If the score is less than 40\n",
    "if(grade<40):\n",
    "  print(\"Grade F\")\n",
    "#‘Grade C’ : If the score is between 40 & 59\n",
    "elif (grade>=40 and grade<=59):\n",
    "  print(\"Grade C\")\n",
    "#Grade B’ : If the score is between 60 & 84\n",
    "elif(grade>=60 and grade<=84):\n",
    "  print(\"Grade B\")\n",
    "# 'Grade A’ : If the score is between 85 & 100\n",
    "elif(grade>=85 and grade<=100):\n",
    "  print(\"Grade A\")   "
   ]
  },
  {
   "cell_type": "code",
   "execution_count": 14,
   "metadata": {},
   "outputs": [
    {
     "name": "stdout",
     "output_type": "stream",
     "text": [
      "The random number is :  61\n",
      "List of even numbers up to the random number [2, 4, 6, 8, 10, 12, 14, 16, 18, 20, 22, 24, 26, 28, 30, 32, 34, 36, 38, 40, 42, 44, 46, 48, 50, 52, 54, 56, 58, 60]\n",
      "List of odd numbers up to the random number [1, 3, 5, 7, 9, 11, 13, 15, 17, 19, 21, 23, 25, 27, 29, 31, 33, 35, 37, 39, 41, 43, 45, 47, 49, 51, 53, 55, 57, 59, 61]\n",
      "List of prime numbers up to the random number\n",
      "3 5 7 11 13 17 19 23 29 31 37 41 43 47 53 59 61 "
     ]
    }
   ],
   "source": [
    "#5\n",
    "#Write a python code to generate a random number between 1 & 99 (use python library: random). Print the following as output:\n",
    "#1.\tThe random number [say, 9]\n",
    "#2.\tList of even numbers up to the random number [2, 4, 6, 8]\n",
    "#3.\tList of odd numbers up to the random number [1, 3, 5, 7, 9]\n",
    "#4.\tList of prime numbers up to the random number [2, 3, 5, 7]\n",
    "\n",
    "\n",
    "# code\n",
    "#creating a function is_prime which print prime no. up to num\n",
    "def is_prime(upto):\n",
    "  # loop from 2 to upto+1\n",
    "  for num in range(2, upto + 1):\n",
    "\n",
    "    i = 2\n",
    "  #loop of i in range 2 to num\n",
    "    for i in range(2, num):\n",
    "        if(num % i == 0):\n",
    "            i = num  #if num is divisible by i that means it is not a prime no.\n",
    "            break; #break the loop\n",
    "\n",
    "    # If the number is prime then print it.\n",
    "    if(i != num):\n",
    "        print(num, end=\" \")\n",
    "#importing a module name random as alias name as rn\n",
    "import random as rn\n",
    "#taking a random value from randint which is a function in a module random\n",
    "list_even=[] # created an empty list which store even no\n",
    "list_odd=[] # created an empty list which store odd no\n",
    "#taking a random value in  variable num\n",
    "num= rn.randint(1,100)\n",
    "print(\"The random number is : \",num)\n",
    "#loop that will read all numbers till num\n",
    "for i in range(1,num+1):\n",
    "  if(i%2==0): #if divisible by 2 it is even\n",
    "    list_even.append(i)  #even no. append to the list\n",
    "  else:\n",
    "    list_odd.append(i)   #odd no. append to list\n",
    "print(\"List of even numbers up to the random number\",list_even)\n",
    "print(\"List of odd numbers up to the random number\",list_odd)\n",
    "print(\"List of prime numbers up to the random number\")\n",
    "is_prime(num) # calling of function created above"
   ]
  },
  {
   "cell_type": "code",
   "execution_count": 8,
   "metadata": {},
   "outputs": [
    {
     "name": "stdout",
     "output_type": "stream",
     "text": [
      "Random 4-digit number: 7366\n",
      "Thousands digit: 7\n",
      "Hundreds digit: 3\n",
      "Tens digit: 6\n",
      "Ones digit: 6\n"
     ]
    }
   ],
   "source": [
    "#6\n",
    "import random\n",
    "\n",
    "# Generate a random 4-digit number between 1000 and 9999\n",
    "random_number = random.randint(1000, 9999)\n",
    "\n",
    "print(f\"Random 4-digit number: {random_number}\")\n",
    "\n",
    "# Extract and print each digit with its place value\n",
    "thousands_digit = random_number // 1000\n",
    "hundreds_digit = (random_number // 100) % 10\n",
    "tens_digit = (random_number // 10) % 10\n",
    "ones_digit = random_number % 10\n",
    "\n",
    "print(f\"Thousands digit: {thousands_digit}\")\n",
    "print(f\"Hundreds digit: {hundreds_digit}\")\n",
    "print(f\"Tens digit: {tens_digit}\")\n",
    "print(f\"Ones digit: {ones_digit}\")"
   ]
  },
  {
   "cell_type": "code",
   "execution_count": 15,
   "metadata": {},
   "outputs": [
    {
     "name": "stdout",
     "output_type": "stream",
     "text": [
      "List of 5 random numbers: [-9, -6, -7, -5, -4]\n",
      "Sum of the random numbers: -31\n"
     ]
    }
   ],
   "source": [
    "#Task 7\n",
    "#Write a python code to generate 5 random numbers between -9 & +9 (use python library: random). Print the list of 5 random numbers and their sum.\n",
    "import random as rn\n",
    "random_numbers = [rn.randint(-9, 9) for _ in range(5)] #importing random number from -9 to 9 in random_number\n",
    "\n",
    "sum_of_numbers = sum(random_numbers) #calculating sum\n",
    "\n",
    "print(\"List of 5 random numbers:\", random_numbers)\n",
    "print(\"Sum of the random numbers:\", sum_of_numbers)"
   ]
  },
  {
   "cell_type": "code",
   "execution_count": 16,
   "metadata": {},
   "outputs": [
    {
     "name": "stdout",
     "output_type": "stream",
     "text": [
      "Enter a date (YYYY-MM-DD): 2012-12-11\n",
      "Years: 10, Months: 8, Days: 21\n"
     ]
    }
   ],
   "source": [
    "#task8 Task 8\n",
    "#Write a python code to calculate the number of Years, Months & Days, with respect to Today, given a Date.\n",
    "#Example\n",
    "#Input: 15-08-1947 or August 15, 1947\n",
    "#Output: {Years: 77, Months: 01, Days: 01} (As on Aug 16, 2023)\n",
    "\n",
    "\n",
    "from datetime import datetime  # Import the 'datetime' module\n",
    "\n",
    "# Define a function to calculate age given a date\n",
    "def calculate_age(date):\n",
    "    today = datetime.now().date()  # Get today's date\n",
    "    age = today - date  # Calculate the difference between today's date and the given date\n",
    "\n",
    "    # Calculate years, months, and days from the age in days\n",
    "    years = age.days // 365\n",
    "    remaining_days = age.days % 365\n",
    "    months = remaining_days // 30\n",
    "    days = remaining_days % 30\n",
    "\n",
    "    return years, months, days\n",
    "\n",
    "# Input date in YYYY-MM-DD format\n",
    "input_date_str = input(\"Enter a date (YYYY-MM-DD): \")  # Ask the user for input\n",
    "input_date = datetime.strptime(input_date_str, '%Y-%m-%d').date()  # Convert the input string to a date\n",
    "\n",
    "# Call the calculate_age function to get years, months, and days\n",
    "years, months, days = calculate_age(input_date)\n",
    "\n",
    "# Print the calculated age\n",
    "print(f\"Years: {years}, Months: {months}, Days: {days}\")"
   ]
  },
  {
   "cell_type": "code",
   "execution_count": 18,
   "metadata": {},
   "outputs": [
    {
     "name": "stdout",
     "output_type": "stream",
     "text": [
      "    *\n",
      "   ***\n",
      "  *****\n",
      " *******\n",
      "*********\n",
      " *******\n",
      "  *****\n",
      "   ***\n",
      "    *\n"
     ]
    }
   ],
   "source": [
    "#Task 9\n",
    "#Write a python code to generate the following ‘diamond’ pattern.\n",
    "\n",
    "\n",
    "# Define the number of rows (half of the diamond height)\n",
    "n = 5\n",
    "\n",
    "# Upper part of the diamond\n",
    "for i in range(n):\n",
    "    spaces = \" \" * (n - i - 1)\n",
    "    stars = \"*\" * (2 * i + 1)\n",
    "    print(spaces + stars)\n",
    "\n",
    "# Lower part of the diamond\n",
    "for i in range(n - 2, -1, -1):\n",
    "    spaces = \" \" * (n - i - 1)\n",
    "    stars = \"*\" * (2 * i + 1)\n",
    "    print(spaces + stars)\n"
   ]
  },
  {
   "cell_type": "code",
   "execution_count": 22,
   "metadata": {},
   "outputs": [
    {
     "name": "stdout",
     "output_type": "stream",
     "text": [
      "['a', 'k', 'z', 'x', 'o', 'a', 'z', 'a', 'u', 'q']\n",
      "['u', 'a', 'z', 'a', 'x', 'q', 'z', 'k', 'o', 'a']\n",
      "Connections for 'x':\n",
      "x -> k\n",
      "x -> a\n",
      "x -> z\n",
      "x -> o\n",
      "x -> a\n"
     ]
    }
   ],
   "source": [
    "# task 10 Write a python code to create a list of 10 random letters (say List A). Create a copy of List A (say List B). \n",
    "#Shuffle both List A & B. Treat each element of List A (say a) as Source and the corresponding element of List B (say b) as Destination. It is assumed that a from list A is connected to b from List B. Map the network of all connected elements such that an inquiry of any element will show the connected paths to & from the element.\n",
    "import random\n",
    "\n",
    "# Create List A with 10 random lowercase letters\n",
    "list_a = [chr(random.randint(97, 122)) for _ in range(10)]\n",
    "\n",
    "# Create List B as a shuffled copy of List A\n",
    "list_b = random.sample(list_a, len(list_a))\n",
    "print(list_a)\n",
    "print(list_b)\n",
    "# Create a dictionary to represent the network connections\n",
    "network = {a: b for a, b in zip(list_a, list_b)}\n",
    "\n",
    "# Function to find connected paths to and from an element\n",
    "def find_connected_paths(element):\n",
    "    paths = [f\"{element} -> {b}\" for a, b in network.items() if a != element and b != element]\n",
    "    return paths\n",
    "\n",
    "# Test the network by querying an element (replace 'x' with the element you want to inquire about)\n",
    "inquiry_element = 'x'  # Replace 'x' with the element you want to inquire about\n",
    "connected_paths = find_connected_paths(inquiry_element)\n",
    "\n",
    "# Print the results\n",
    "print(f\"Connections for '{inquiry_element}':\")\n",
    "for path in connected_paths:\n",
    "    print(path)"
   ]
  },
  {
   "cell_type": "code",
   "execution_count": null,
   "metadata": {},
   "outputs": [],
   "source": []
  }
 ],
 "metadata": {
  "kernelspec": {
   "display_name": "Python 3",
   "language": "python",
   "name": "python3"
  },
  "language_info": {
   "codemirror_mode": {
    "name": "ipython",
    "version": 3
   },
   "file_extension": ".py",
   "mimetype": "text/x-python",
   "name": "python",
   "nbconvert_exporter": "python",
   "pygments_lexer": "ipython3",
   "version": "3.6.4"
  }
 },
 "nbformat": 4,
 "nbformat_minor": 2
}
