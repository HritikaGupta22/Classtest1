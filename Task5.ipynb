{
  "nbformat": 4,
  "nbformat_minor": 0,
  "metadata": {
    "colab": {
      "provenance": [],
      "authorship_tag": "ABX9TyOYQKClYPccs+7fDgQDoSGe",
      "include_colab_link": true
    },
    "kernelspec": {
      "name": "python3",
      "display_name": "Python 3"
    },
    "language_info": {
      "name": "python"
    }
  },
  "cells": [
    {
      "cell_type": "markdown",
      "metadata": {
        "id": "view-in-github",
        "colab_type": "text"
      },
      "source": [
        "<a href=\"https://colab.research.google.com/github/HritikaGupta22/Classtest1/blob/main/Task5.ipynb\" target=\"_parent\"><img src=\"https://colab.research.google.com/assets/colab-badge.svg\" alt=\"Open In Colab\"/></a>"
      ]
    },
    {
      "cell_type": "code",
      "execution_count": null,
      "metadata": {
        "id": "VVxfHEKhTfR_"
      },
      "outputs": [],
      "source": [
        "#Task 5\n",
        "#Write a python code to generate a random number between 1 & 99 (use python library: random). Print the following as output:\n",
        "#1. The random number [say, 9]\n",
        "#2. List of even numbers up to the random number [2, 4, 6, 8]\n",
        "#3. List of odd numbers up to the random number [1, 3, 5, 7, 9]\n",
        "#4. List of prime numbers up to the random number [2, 3, 5, 7]"
      ]
    },
    {
      "cell_type": "code",
      "source": [],
      "metadata": {
        "id": "ZfjlNaiDVLWE"
      },
      "execution_count": 18,
      "outputs": []
    },
    {
      "cell_type": "code",
      "source": [
        "# code\n",
        "#creating a function is_prime which print prime no. up to num\n",
        "def is_prime(upto):\n",
        "  # loop from 2 to upto+1\n",
        "  for num in range(2, upto + 1):\n",
        "\n",
        "    i = 2\n",
        "  #loop of i in range 2 to num\n",
        "    for i in range(2, num):\n",
        "        if(num % i == 0):\n",
        "            i = num  #if num is divisible by i that means it is not a prime no.\n",
        "            break; #break the loop\n",
        "\n",
        "    # If the number is prime then print it.\n",
        "    if(i != num):\n",
        "        print(num, end=\" \")\n",
        "#importing a module name random as alias name as rn\n",
        "import random as rn\n",
        "#taking a random value from randint which is a function in a module random\n",
        "list_even=[] # created an empty list which store even no\n",
        "list_odd=[] # created an empty list which store odd no\n",
        "#taking a random value in  variable num\n",
        "num= rn.randint(1,100)\n",
        "print(\"The random number is : \",num)\n",
        "#loop that will read all numbers till num\n",
        "for i in range(1,num+1):\n",
        "  if(i%2==0): #if divisible by 2 it is even\n",
        "    list_even.append(i)  #even no. append to the list\n",
        "  else:\n",
        "    list_odd.append(i)   #odd no. append to list\n",
        "print(\"List of even numbers up to the random number\",list_even)\n",
        "print(\"List of odd numbers up to the random number\",list_odd)\n",
        "print(\"List of prime numbers up to the random number\")\n",
        "is_prime(num) # calling of function created above\n"
      ],
      "metadata": {
        "colab": {
          "base_uri": "https://localhost:8080/"
        },
        "id": "9PiBfRtrTjPx",
        "outputId": "84c892a8-f6a3-4ac7-9581-6a8de63ddedf"
      },
      "execution_count": 24,
      "outputs": [
        {
          "output_type": "stream",
          "name": "stdout",
          "text": [
            "The random number is :  74\n",
            "List of even numbers up to the random number [2, 4, 6, 8, 10, 12, 14, 16, 18, 20, 22, 24, 26, 28, 30, 32, 34, 36, 38, 40, 42, 44, 46, 48, 50, 52, 54, 56, 58, 60, 62, 64, 66, 68, 70, 72, 74]\n",
            "List of odd numbers up to the random number [1, 3, 5, 7, 9, 11, 13, 15, 17, 19, 21, 23, 25, 27, 29, 31, 33, 35, 37, 39, 41, 43, 45, 47, 49, 51, 53, 55, 57, 59, 61, 63, 65, 67, 69, 71, 73]\n",
            "List of prime numbers up to the random number\n",
            "3 5 7 11 13 17 19 23 29 31 37 41 43 47 53 59 61 67 71 73 "
          ]
        }
      ]
    },
    {
      "cell_type": "code",
      "source": [],
      "metadata": {
        "id": "j7QNPexNUmra"
      },
      "execution_count": null,
      "outputs": []
    }
  ]
}