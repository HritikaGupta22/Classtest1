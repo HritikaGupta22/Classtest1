{
  "nbformat": 4,
  "nbformat_minor": 0,
  "metadata": {
    "colab": {
      "provenance": [],
      "authorship_tag": "ABX9TyP6GhemcY+t+dkXjhgYpZNj",
      "include_colab_link": true
    },
    "kernelspec": {
      "name": "python3",
      "display_name": "Python 3"
    },
    "language_info": {
      "name": "python"
    }
  },
  "cells": [
    {
      "cell_type": "markdown",
      "metadata": {
        "id": "view-in-github",
        "colab_type": "text"
      },
      "source": [
        "<a href=\"https://colab.research.google.com/github/HritikaGupta22/Classtest1/blob/main/Task3.ipynb\" target=\"_parent\"><img src=\"https://colab.research.google.com/assets/colab-badge.svg\" alt=\"Open In Colab\"/></a>"
      ]
    },
    {
      "cell_type": "code",
      "execution_count": 3,
      "metadata": {
        "colab": {
          "base_uri": "https://localhost:8080/"
        },
        "id": "DZeKLLHpZVX0",
        "outputId": "ff44b4bd-a9fb-4758-9597-837f01e60ed0"
      },
      "outputs": [
        {
          "output_type": "stream",
          "name": "stdout",
          "text": [
            "Common letters between 'Python' and 'Anaconda':\n",
            "n\n",
            "o\n"
          ]
        }
      ],
      "source": []
    },
    {
      "cell_type": "code",
      "source": [
        "#Write a python code to display the letters occurring commonly in 2 words.\n",
        "#Test the code with the words ‘Python’ & ‘Anaconda’. (Note: Remove Case Sensitivity)\n",
        "#Input 1: Python\n",
        "#Input 2: Anaconda\n",
        "#Output: [o, n]"
      ],
      "metadata": {
        "id": "tL3-jhBtZWt0"
      },
      "execution_count": null,
      "outputs": []
    },
    {
      "cell_type": "code",
      "source": [
        "def common_letters(w1, w2):\n",
        "    w1 = w1.lower()\n",
        "    w2= w2.lower()\n",
        "\n",
        "    common_letters = set(w1) & set(w2) #checking common letter\n",
        "    return common_letters\n",
        "\n",
        "w1 = 'Python'  # assignment of string \"python\" in variable w1\n",
        "w2 = 'Anaconda' # assignment of string \"Anaconda\" in variable w2\n",
        "\n",
        "common_letters = common_letters(w1, w2) #calling of a function common_letters have two parameter w1,w2 and return the content into common_letters\n",
        "\n",
        "print(\"Common letters between \" ,w1 ,\"and\", w2)\n",
        "for letter in common_letters:  # read letter in common_letter\n",
        "    print(letter)"
      ],
      "metadata": {
        "colab": {
          "base_uri": "https://localhost:8080/"
        },
        "id": "b_WEfu0ZZnva",
        "outputId": "8e6f897f-0f64-4da9-ec1f-cf6ebb4f369c"
      },
      "execution_count": 9,
      "outputs": [
        {
          "output_type": "stream",
          "name": "stdout",
          "text": [
            "Common letters between  Python and Anaconda\n",
            "n\n",
            "o\n"
          ]
        }
      ]
    },
    {
      "cell_type": "code",
      "source": [],
      "metadata": {
        "id": "uFXBEqlraQZO"
      },
      "execution_count": null,
      "outputs": []
    }
  ]
}