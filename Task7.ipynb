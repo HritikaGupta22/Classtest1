{
  "nbformat": 4,
  "nbformat_minor": 0,
  "metadata": {
    "colab": {
      "provenance": [],
      "authorship_tag": "ABX9TyNPLB06s4ccmYVv/Qv4N7ft",
      "include_colab_link": true
    },
    "kernelspec": {
      "name": "python3",
      "display_name": "Python 3"
    },
    "language_info": {
      "name": "python"
    }
  },
  "cells": [
    {
      "cell_type": "markdown",
      "metadata": {
        "id": "view-in-github",
        "colab_type": "text"
      },
      "source": [
        "<a href=\"https://colab.research.google.com/github/HritikaGupta22/Classtest1/blob/main/Task7.ipynb\" target=\"_parent\"><img src=\"https://colab.research.google.com/assets/colab-badge.svg\" alt=\"Open In Colab\"/></a>"
      ]
    },
    {
      "cell_type": "code",
      "execution_count": null,
      "metadata": {
        "id": "3n5hNXFibaQS"
      },
      "outputs": [],
      "source": [
        "#task7\n",
        "#Write a python code to generate 5 random numbers between -9 & +9 (use python library: random). Print the list of 5 random numbers and their sum."
      ]
    },
    {
      "cell_type": "code",
      "source": [
        "import random as rn\n",
        "random_numbers = [rn.randint(-9, 9) for _ in range(5)] #importing random number from -9 to 9 in random_number\n",
        "\n",
        "sum_of_numbers = sum(random_numbers) #calculating sum\n",
        "\n",
        "print(\"List of 5 random numbers:\", random_numbers)\n",
        "print(\"Sum of the random numbers:\", sum_of_numbers)"
      ],
      "metadata": {
        "id": "vg_xb6PRbcVd"
      },
      "execution_count": null,
      "outputs": []
    }
  ]
}