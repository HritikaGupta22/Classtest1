{
  "nbformat": 4,
  "nbformat_minor": 0,
  "metadata": {
    "colab": {
      "provenance": [],
      "authorship_tag": "ABX9TyMKSt4IXKfhEzDW7iXA5ycr",
      "include_colab_link": true
    },
    "kernelspec": {
      "name": "python3",
      "display_name": "Python 3"
    },
    "language_info": {
      "name": "python"
    }
  },
  "cells": [
    {
      "cell_type": "markdown",
      "metadata": {
        "id": "view-in-github",
        "colab_type": "text"
      },
      "source": [
        "<a href=\"https://colab.research.google.com/github/HritikaGupta22/Classtest1/blob/main/Task4.ipynb\" target=\"_parent\"><img src=\"https://colab.research.google.com/assets/colab-badge.svg\" alt=\"Open In Colab\"/></a>"
      ]
    },
    {
      "cell_type": "code",
      "execution_count": 9,
      "metadata": {
        "id": "egvgJIb6Ma8Y",
        "colab": {
          "base_uri": "https://localhost:8080/"
        },
        "outputId": "a9aa135e-96fc-462d-9c4c-1fdbd0a2d94c"
      },
      "outputs": [
        {
          "output_type": "stream",
          "name": "stdout",
          "text": [
            "The Grade is :  67\n",
            "The score \n",
            "Grade B\n"
          ]
        }
      ],
      "source": [
        "#task4\n",
        "# Write a python code to generate a random score between 0 & 100 (use python library: random). Print the following as output:\n",
        "#1. The score\n",
        "#2. ‘Grade F’ : If the score is less than 40\n",
        "#3. ‘Grade C’ : If the score is between 40 & 59\n",
        "#4. ‘Grade B’ : If the score is between 60 & 84\n",
        "#5. ‘Grade A’ : If the score is between 85 & 100\n",
        "\n",
        "# code\n",
        "#importing a module name random as alias name as rn\n",
        "import random as rn\n",
        "#taking a random value from randint which is a function in a module random\n",
        "grade= rn.randint(0,100)\n",
        "#printing the grade value\n",
        "print(\"The Grade is : \",grade)\n",
        "print(\"The score \")\n",
        "#‘Grade F’ : If the score is less than 40\n",
        "if(grade<40):\n",
        "  print(\"Grade F\")\n",
        "#‘Grade C’ : If the score is between 40 & 59\n",
        "elif (grade>=40 and grade<=59):\n",
        "  print(\"Grade C\")\n",
        "#Grade B’ : If the score is between 60 & 84\n",
        "elif(grade>=60 and grade<=84):\n",
        "  print(\"Grade B\")\n",
        "# 'Grade A’ : If the score is between 85 & 100\n",
        "elif(grade>=85 and grade<=100):\n",
        "  print(\"Grade A\")"
      ]
    },
    {
      "cell_type": "code",
      "source": [],
      "metadata": {
        "id": "mSafoNtuRCk1"
      },
      "execution_count": 9,
      "outputs": []
    }
  ]
}