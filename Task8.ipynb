{
  "nbformat": 4,
  "nbformat_minor": 0,
  "metadata": {
    "colab": {
      "provenance": [],
      "authorship_tag": "ABX9TyMkzr9f8p9etMhwKNsOpMmu",
      "include_colab_link": true
    },
    "kernelspec": {
      "name": "python3",
      "display_name": "Python 3"
    },
    "language_info": {
      "name": "python"
    }
  },
  "cells": [
    {
      "cell_type": "markdown",
      "metadata": {
        "id": "view-in-github",
        "colab_type": "text"
      },
      "source": [
        "<a href=\"https://colab.research.google.com/github/HritikaGupta22/Classtest1/blob/main/Task8.ipynb\" target=\"_parent\"><img src=\"https://colab.research.google.com/assets/colab-badge.svg\" alt=\"Open In Colab\"/></a>"
      ]
    },
    {
      "cell_type": "code",
      "execution_count": 3,
      "metadata": {
        "id": "AGZEf6ZscMTr"
      },
      "outputs": [],
      "source": [
        "#task8\n",
        "#Write a python code to calculate the number of Years, Months & Days, with respect to Today, given a Date."
      ]
    },
    {
      "cell_type": "code",
      "source": [
        "from datetime import datetime  # Import the 'datetime' module\n",
        "\n",
        "# Define a function to calculate age given a date\n",
        "def calculate_age(date):\n",
        "    today = datetime.now().date()  # Get today's date\n",
        "    age = today - date  # Calculate the difference between today's date and the given date\n",
        "\n",
        "    # Calculate years, months, and days from the age in days\n",
        "    years = age.days // 365\n",
        "    remaining_days = age.days % 365\n",
        "    months = remaining_days // 30\n",
        "    days = remaining_days % 30\n",
        "\n",
        "    return years, months, days\n",
        "\n",
        "# Input date in YYYY-MM-DD format\n",
        "input_date_str = input(\"Enter a date (YYYY-MM-DD): \")  # Ask the user for input\n",
        "input_date = datetime.strptime(input_date_str, '%Y-%m-%d').date()  # Convert the input string to a date\n",
        "\n",
        "# Call the calculate_age function to get years, months, and days\n",
        "years, months, days = calculate_age(input_date)\n",
        "\n",
        "# Print the calculated age\n",
        "print(f\"Years: {years}, Months: {months}, Days: {days}\")"
      ],
      "metadata": {
        "colab": {
          "base_uri": "https://localhost:8080/"
        },
        "id": "Ruod__6ecQKc",
        "outputId": "10db44b7-e22f-4660-ee70-a734225fa9c6"
      },
      "execution_count": 2,
      "outputs": [
        {
          "output_type": "stream",
          "name": "stdout",
          "text": [
            "Enter a date (YYYY-MM-DD): 2001-01-22\n",
            "Years: 22, Months: 7, Days: 6\n"
          ]
        }
      ]
    },
    {
      "cell_type": "code",
      "source": [],
      "metadata": {
        "id": "UUSXlJwscRqh"
      },
      "execution_count": null,
      "outputs": []
    }
  ]
}